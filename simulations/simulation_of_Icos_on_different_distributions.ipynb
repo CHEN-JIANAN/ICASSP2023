{
  "nbformat": 4,
  "nbformat_minor": 0,
  "metadata": {
    "colab": {
      "provenance": []
    },
    "kernelspec": {
      "name": "python3",
      "display_name": "Python 3"
    },
    "language_info": {
      "name": "python"
    }
  },
  "cells": [
    {
      "cell_type": "code",
      "source": [
        "!pip install scipy==1.9.2"
      ],
      "metadata": {
        "colab": {
          "base_uri": "https://localhost:8080/"
        },
        "id": "0fyjs-XDfkej",
        "outputId": "6653dcf7-8559-4993-c329-416382b30d8e"
      },
      "execution_count": 59,
      "outputs": [
        {
          "output_type": "stream",
          "name": "stdout",
          "text": [
            "Looking in indexes: https://pypi.org/simple, https://us-python.pkg.dev/colab-wheels/public/simple/\n",
            "Collecting scipy==1.9.2\n",
            "  Downloading scipy-1.9.2-cp38-cp38-manylinux_2_17_x86_64.manylinux2014_x86_64.whl (33.8 MB)\n",
            "\u001b[2K     \u001b[90m━━━━━━━━━━━━━━━━━━━━━━━━━━━━━━━━━━━━━━━━\u001b[0m \u001b[32m33.8/33.8 MB\u001b[0m \u001b[31m38.2 MB/s\u001b[0m eta \u001b[36m0:00:00\u001b[0m\n",
            "\u001b[?25hRequirement already satisfied: numpy<1.26.0,>=1.18.5 in /usr/local/lib/python3.8/dist-packages (from scipy==1.9.2) (1.21.6)\n",
            "Installing collected packages: scipy\n",
            "  Attempting uninstall: scipy\n",
            "    Found existing installation: scipy 1.7.3\n",
            "    Uninstalling scipy-1.7.3:\n",
            "      Successfully uninstalled scipy-1.7.3\n",
            "Successfully installed scipy-1.9.2\n"
          ]
        }
      ]
    },
    {
      "cell_type": "code",
      "source": [
        "from random import randint, random\n",
        "from math import sqrt, cos,sin\n",
        "import numpy as np\n",
        "from scipy import stats\n",
        "# create embeddings by different ways to get different distributions\n",
        "\n",
        "# 1. isotrophic, uniformly distributed\n",
        "def uniform_distributed_samples(nSamples=1000):\n",
        "  samples = []\n",
        "  for t in range(nSamples):\n",
        "    x = (1-2*randint(0,1))*random()\n",
        "    y = (1-2*randint(0,1))*sqrt(1.0001-x**2)\n",
        "    samples.append([x,y])\n",
        "  return np.asarray(samples)\n",
        "\n",
        "# 2. isotrophic, with nClasses gaussian  Distribution\n",
        "def gaussian_distributed_samples(nSamples=10000, nClasses=10, sigma=1.414):\n",
        "  centers = [0+6.28/nClasses*i for i in range(nClasses)]\n",
        "  samples = []\n",
        "  for t in range(nSamples):\n",
        "    # first choose a center by uniform distribution\n",
        "    center = centers[randint(0, nClasses-1)]\n",
        "    # then get the theta in polar coords by gaussian distribution\n",
        "    theta = stats.norm.rvs(loc=center, scale=sigma)\n",
        "    # then transfer to x-y coords\n",
        "    x,y = cos(theta), sin(theta)\n",
        "    samples.append([x,y])\n",
        "\n",
        "  return np.asarray(samples)\n",
        "\n",
        "# 3. anisotrophic, aggregate in the first quadrant\n",
        "def anisotrophic_distributed_samples(nSamples=10000):\n",
        "  samples = []\n",
        "  center = 3.14/4 # pi/4\n",
        "  for t in range(nSamples):\n",
        "    # first choose a center by uniform distribution\n",
        "    # then get the theta in polar coords by gaussian distribution\n",
        "    theta = stats.norm.rvs(loc=center, scale=0.2)\n",
        "    # then transfer to x-y coords\n",
        "    x,y = cos(theta), sin(theta)\n",
        "    samples.append([x,y])\n",
        "\n",
        "  return np.asarray(samples)"
      ],
      "metadata": {
        "id": "xCQsj4mvdnQA"
      },
      "execution_count": 138,
      "outputs": []
    },
    {
      "cell_type": "code",
      "source": [
        "nSamples=10000\n",
        "# samples = uniform_distributed_samples(nSamples=nSamples)\n",
        "samples = gaussian_distributed_samples(nSamples=nSamples,nClasses=3,sigma=0.2)\n",
        "# samples = anisotrophic_distributed_samples(nSamples=nSamples)"
      ],
      "metadata": {
        "id": "6JYG9YqTZE_c"
      },
      "execution_count": 154,
      "outputs": []
    },
    {
      "cell_type": "code",
      "source": [
        "\n",
        "import matplotlib.pyplot as plt\n",
        "\n",
        "fig = plt.figure()\n",
        "ax = fig.add_subplot(1,1,1)\n",
        "ax.set_aspect('equal', adjustable='box')\n",
        "\n",
        "plt.xlim(-2.0, 2.0)\n",
        "plt.ylim(-2.0, 2.0)\n",
        "plt.scatter(samples[:,0],samples[:,1])\n",
        "plt.grid()\n",
        "\n",
        "plt.show()\n",
        "# plt.savefig(\"uniform.png\")\n",
        "# plt.savefig(\"gaussian.png\")\n",
        "# plt.savefig(\"anisotrophy.png\")"
      ],
      "metadata": {
        "colab": {
          "base_uri": "https://localhost:8080/",
          "height": 269
        },
        "id": "8j-Sj_iaZtek",
        "outputId": "7943384d-a3c5-460b-e6a3-cacaf729acc7"
      },
      "execution_count": 126,
      "outputs": [
        {
          "output_type": "display_data",
          "data": {
            "text/plain": [
              "<Figure size 432x288 with 1 Axes>"
            ],
            "image/png": "[encoded data removed]"
          },
          "metadata": {
            "needs_background": "light"
          }
        }
      ]
    },
    {
      "cell_type": "code",
      "source": [
        "from numpy.linalg import norm\n",
        "import tqdm\n",
        "\n",
        "def cosine_similarity(samples1, samples2, n=3):\n",
        "    \"\"\"\n",
        "    :param samples1: random selected samples\n",
        "    :param samples2: random selected samples\n",
        "    :param n: the most n dims contributing to cosine similarity\n",
        "    :return: 1. cosine similarity; 2. most n dims; 3. their contributions\n",
        "    \"\"\"\n",
        "    print(\"calculating Icos...\")\n",
        "    nsamples = min(len(samples1), len(samples2))\n",
        "    contris, sims = [], []\n",
        "    for emb1, emb2 in tqdm.tqdm(zip(samples1, samples2)):\n",
        "        contris.append(np.multiply(emb1, emb2) / (norm(emb1) * norm(emb2)))\n",
        "        sims.append(np.sum(contris[-1]))\n",
        "\n",
        "    contris = np.mean(contris, axis=0) / np.mean(sims)\n",
        "\n",
        "    return 1.0 * np.sum(sims) / nsamples, np.argsort(contris)[-n:], contris[np.argsort(contris)[-n:]]\n"
      ],
      "metadata": {
        "id": "3OnOtd2HaXSA"
      },
      "execution_count": 114,
      "outputs": []
    },
    {
      "cell_type": "code",
      "source": [
        "nPairs = 1000000\n",
        "samples1,samples2 = [],[]\n",
        "# randomly choose <nPairs> samples from whole sample set\n",
        "for i in range(nPairs):\n",
        "  idx1,idx2 = randint(0,nSamples-1),randint(0,nSamples-1)\n",
        "  samples1.append(samples[idx1,:])\n",
        "  samples2.append(samples[idx2,:])\n",
        "\n",
        "# If the embedding space is uni\n",
        "samples1,samples2 = np.asarray(samples1), np.asarray(samples2)\n",
        "Icos = cosine_similarity(samples1,samples2)[0]\n",
        "\n",
        "print(\"Icos=\", Icos)"
      ],
      "metadata": {
        "id": "gLf277nwPhlM",
        "colab": {
          "base_uri": "https://localhost:8080/"
        },
        "outputId": "802f75ab-7132-4996-fa20-0f48f74dcde3"
      },
      "execution_count": 155,
      "outputs": [
        {
          "output_type": "stream",
          "name": "stdout",
          "text": [
            "calculating Icos...\n"
          ]
        },
        {
          "output_type": "stream",
          "name": "stderr",
          "text": [
            "1000000it [00:22, 44481.43it/s]\n"
          ]
        },
        {
          "output_type": "stream",
          "name": "stdout",
          "text": [
            "Icos= 0.0003120336902232905\n"
          ]
        }
      ]
    }
  ]
}